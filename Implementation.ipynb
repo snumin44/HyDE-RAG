{
 "cells": [
  {
   "cell_type": "markdown",
   "id": "b4efb2a0-6f02-4f4a-b399-cfbc9f27f3e0",
   "metadata": {},
   "source": [
    "# __HyDE-Q Pipeline__"
   ]
  },
  {
   "cell_type": "code",
   "execution_count": 1,
   "id": "f8428522-d3b2-42d6-a8cd-8f3030c4da39",
   "metadata": {},
   "outputs": [],
   "source": [
    "import os\n",
    "import time\n",
    "import pickle\n",
    "import random\n",
    "import faiss\n",
    "import warnings\n",
    "warnings.filterwarnings('ignore') \n",
    "\n",
    "import pandas as pd\n",
    "import numpy as np\n",
    "from numpy import dot\n",
    "from numpy.linalg import norm\n",
    "from nltk import sent_tokenize\n",
    "from tqdm import tqdm\n",
    "from datasets import load_dataset\n",
    "from sentence_transformers import SentenceTransformer\n",
    "from transformers import AutoTokenizer, AutoModelForCausalLM\n",
    "\n",
    "from hyde.HyDE import HyDEQ\n",
    "from hyde.Promptor import Promptor\n",
    "from hyde.Searcher import FaissSearcher\n",
    "from hyde.Generator import Generator"
   ]
  },
  {
   "cell_type": "markdown",
   "id": "e241b0c6-693b-413d-b456-ed00eedcf933",
   "metadata": {},
   "source": [
    "#### **① 데이터셋 로드**"
   ]
  },
  {
   "cell_type": "code",
   "execution_count": 2,
   "id": "4272cf5d-d342-41f4-85b8-c8a46d8f4d10",
   "metadata": {},
   "outputs": [],
   "source": [
    "# train set과 validation set의 context를 모두 사용\n",
    "dataset = load_dataset('squad_kor_v1')\n",
    "contexts = dataset['train']['context'] + dataset['validation']['context']\n",
    "contexts = list(set(contexts))"
   ]
  },
  {
   "cell_type": "code",
   "execution_count": 3,
   "id": "342c302d-6776-48b3-8264-cc06fa12f95e",
   "metadata": {},
   "outputs": [
    {
     "data": {
      "text/plain": [
       "10563"
      ]
     },
     "execution_count": 3,
     "metadata": {},
     "output_type": "execute_result"
    }
   ],
   "source": [
    "len(contexts)"
   ]
  },
  {
   "cell_type": "markdown",
   "id": "0242ce5f-c44f-47dd-8166-5b4928e09c7d",
   "metadata": {},
   "source": [
    "#### **② HyDE-Q Pipe Line 선언**"
   ]
  },
  {
   "cell_type": "code",
   "execution_count": 4,
   "id": "14d8d968-95fd-4984-8505-8ead1af55344",
   "metadata": {},
   "outputs": [
    {
     "data": {
      "application/vnd.jupyter.widget-view+json": {
       "model_id": "3511db91fb544b03bca3c88fe71f9010",
       "version_major": 2,
       "version_minor": 0
      },
      "text/plain": [
       "Loading checkpoint shards:   0%|          | 0/13 [00:00<?, ?it/s]"
      ]
     },
     "metadata": {},
     "output_type": "display_data"
    },
    {
     "name": "stderr",
     "output_type": "stream",
     "text": [
      "Special tokens have been added in the vocabulary, make sure the associated word embeddings are fine-tuned or trained.\n"
     ]
    },
    {
     "data": {
      "text/plain": [
       "Embedding(30003, 4096)"
      ]
     },
     "execution_count": 4,
     "metadata": {},
     "output_type": "execute_result"
    }
   ],
   "source": [
    "# 검색모델(unsupervised)과 생성모델 로드\n",
    "encoder = SentenceTransformer('snunlp/KR-SBERT-V40K-klueNLI-augSTS')\n",
    "model = AutoModelForCausalLM.from_pretrained('beomi/KoAlpaca-Polyglot-5.8B')\n",
    "tokenizer = AutoTokenizer.from_pretrained('beomi/KoAlpaca-Polyglot-5.8B')\n",
    "\n",
    "tokenizer.pad_token = tokenizer.eos_token\n",
    "model.resize_token_embeddings(len(tokenizer))"
   ]
  },
  {
   "cell_type": "code",
   "execution_count": 5,
   "id": "ca70284d-97d9-4ced-b518-6758beffca35",
   "metadata": {},
   "outputs": [
    {
     "name": "stdout",
     "output_type": "stream",
     "text": [
      "Load Faiss from disc\n"
     ]
    }
   ],
   "source": [
    "# 프롬프터, 생성모델, 임베딩 모델, 검색도구를 선언\n",
    "promptor = Promptor('koquad')\n",
    "generator = Generator(model, tokenizer)\n",
    "searcher = FaissSearcher(encoder, contexts, 'koquad_sbert.index')"
   ]
  },
  {
   "cell_type": "code",
   "execution_count": 6,
   "id": "dbd46928-07d6-446e-8daa-416f5ce6179b",
   "metadata": {},
   "outputs": [],
   "source": [
    "# HyDEQ의 Pipe Line\n",
    "hydeq = HyDEQ(promptor, generator, encoder, searcher.index)"
   ]
  },
  {
   "cell_type": "markdown",
   "id": "27db3658-5660-4b1c-97e5-d1c1c287323d",
   "metadata": {},
   "source": [
    "#### **③ 질의로부터 가짜 답안(Hypothesis) 생성**"
   ]
  },
  {
   "cell_type": "code",
   "execution_count": 7,
   "id": "3473ca6e-7c3d-4bf3-bcbe-0d76ad434720",
   "metadata": {},
   "outputs": [
    {
     "data": {
      "text/plain": [
       "'다음 질문에 대답할 수 있는 텍스트를 만들어주세요. ###질문: 전통 신학계의 근본주의적 시작을 여전히 받아들여 노아의 방주를 역사적 사실로 인식하는 집단은? ###답변:'"
      ]
     },
     "execution_count": 7,
     "metadata": {},
     "output_type": "execute_result"
    }
   ],
   "source": [
    "# 쿼리와 프롬프트 확인\n",
    "query = '전통 신학계의 근본주의적 시작을 여전히 받아들여 노아의 방주를 역사적 사실로 인식하는 집단은?'\n",
    "prompt = hydeq.prompt(query)\n",
    "prompt"
   ]
  },
  {
   "cell_type": "code",
   "execution_count": 8,
   "id": "664b9bbe-cb6b-40ce-86d5-80a4328995ff",
   "metadata": {},
   "outputs": [
    {
     "name": "stdout",
     "output_type": "stream",
     "text": [
      "HyDE Generated Document: 0\n",
      "미국의 근본주의 기독교인들은 여전히 노아가 하나님의 계획으로 이 세상에 태어났으며, 어린 시절 그가 창조하였던 동물들의 집합체(친구들)로부터 인류가 언젠가는 새로운 세상으로 발전할 수 있을 것이라고 믿고 있다.\n",
      "HyDE Generated Document: 1\n",
      "말라카 문화와 히브리어 문화, 그리고 히브리어 성경에 대한 오해와 잘못된 이해를 기반으로 하는 이주해온 아브람의 자손 중 가증한 물건이 첩의 품속에서 발견되어 노아의 방주를 역사적 사실로 인정하게 되었습니다.\n",
      "HyDE Generated Document: 2\n",
      "존재하지 않습니다. 대신, 현재의 신학계에서는 노아의 방주가 역사적 사실이 아니며, 신화적 창작물로 인식하는 경향이 있습니다. 대부분의 현대 신학들은 노아의 방주를 문자 그대로 적용하지 않고, 비유적 해석을 통하여 다른 의미를 도출해냅니다.\n",
      "HyDE Generated Document: 3\n",
      "성서에 근거하여 말씀드리자면 노아의 방주를 역사적 사실로 인식하는 이들은 일신론자들이 됩니다.\n",
      "HyDE Generated Document: 4\n",
      "미국의 정통파 신학계(American Orthodoxical Society)입니다.\n"
     ]
    }
   ],
   "source": [
    "hypothesis_documents = hydeq.generate_hypothesis(query, n=5)\n",
    "for idx, doc in enumerate(hypothesis_documents):\n",
    "    print(f'HyDE Generated Document: {idx}')\n",
    "    print(doc.strip())"
   ]
  },
  {
   "cell_type": "markdown",
   "id": "5bafe07a-36dd-43bd-8603-d68952422d4f",
   "metadata": {},
   "source": [
    "#### **④ 가짜 답안을 이용해 유사 문서 검색**"
   ]
  },
  {
   "cell_type": "code",
   "execution_count": 9,
   "id": "06056596-2194-4515-85e4-19fe7af2e111",
   "metadata": {},
   "outputs": [
    {
     "name": "stdout",
     "output_type": "stream",
     "text": [
      "(1, 768)\n"
     ]
    }
   ],
   "source": [
    "# 가짜 답안을 인코딩\n",
    "hyde_vector = hydeq.encode_documents(hypothesis_documents)\n",
    "print(hyde_vector.shape)"
   ]
  },
  {
   "cell_type": "code",
   "execution_count": 10,
   "id": "28fea35c-0dbe-4121-8490-30d1158a1b76",
   "metadata": {},
   "outputs": [
    {
     "name": "stdout",
     "output_type": "stream",
     "text": [
      "HyDE-Q Retrieved Document: 0\n",
      "\t8.057\t역사학과 과학의 발달이 더뎠던 고대사회에서는, 성경이 단순한 교리적인 부분 뿐 아니라 역사책으로서의 권위도 높았기에 노아의 방주를 역사적인 존재로서 다루고 있었다. 이는 제칠일안식교에서 비롯된 의사과학의 한 종류인 유사지질학인 홍수지질학과 같은 것에 영향을 주었으며, 과거 신학에서는 이러한 근본주의적 해석을 받아들여 역사와 사회적인 모든 부분에 있어 성경을 교과서로 채택할 것을 촉구했다. 이러한 홍수지질학을 주장했던 유사지질학자들은 성경에 나오는 노아의 홍수가 어딘가에 그 흔적이 남아 있을것이라고 주장하며 노아의 방주를 찾기 위한 노력을 했다고 주장한다. 이들은 같은 메소포타미아 지방의 신화인 이슬람교 경전이나 길가메쉬 서사시등의 신화를 들어서 이를 근거라고 주장하기도 했다. 그러나 이러한 전통적 근본주의적 시각은 과거에는 상당히 힘을 얻었으나, 역사학과 과학의 발달에 따라 힘을 잃게 되었고, 홍수지질학은 유사과학으로서 남게 되었다. 현대에는 뒤의 실존논란에서 다루는 것처럼 이러한 근본주의적 해석은 비과학적인 해석으로 여기는 것이 일반적이지만, 남침례교로 대표되는 극보수주의계열 기독교에서는 아직도 이것이 받아들여지고 있다.\n",
      "HyDE-Q Retrieved Document: 1\n",
      "\t7.790\t역사학과 과학이 발달하지 않았던 과거 전통 신학계에서는 근본주의적 시각을 받아들여 노아의 방주를 역사적 사실로 기술하려 했으며, 이러한 관점은 아직도 과학과 역사학에 어두운 보수적 근본주의계열의 개신교에서만 받아들여지고 있다. 하지만 역사학과 과학의 발달로 인해, 노아의 방주의 실존에 대한 의문이 제기가 되고, 세계적 홍수가 존재할 수 없음이 밝혀짐에 따라 현대 신학계에서는 비록 노아의 홍수가 과학적으로 실존하지는 않았지만 그 자체의 의미는 신학적으로 매우 중요하며, 이에 대한 해석은 다양하게 이루어지고 있으며, 대부분의 기독교(가톨릭, 개신교를 포함한 대부분)에서는 노아의 방주는 상징적 의미로 받아들여진다. 그러므로 과학과는 상관없이 신학적으로 노아의 방주 자체의 의미는 중요하게 해석된다고 한다\n",
      "HyDE-Q Retrieved Document: 2\n",
      "\t7.463\t물론 노아의 방주가 신학과 신앙에서 중요한 영향을 차지하는 것은 사실이나, 현재 노아의 방주가 역사적으로 실존한다는 주장은 그 증거가 존재하지 않기에 관련 학계로부터 전혀 인정받지 못하고 있으며 그 실존과 안정성에 대한 수많은 논란이 있다. 한국창조과학회 등에서는 제칠일안식교를 기반으로 한 홍수지질학적 주장들을을 내어 놓고 있지만, 사실과 다른 근거들을 바탕으로 주장하므로 신뢰하기 힘든 것들이 전부라 할 수 있다. 그러므로 현재 노아의 방주가 실존한다는 주장은 그 증거가 존재하지 않기에 관련 학계로부터 전혀 인정받지 못하고 있다. 모든 과학관련 학계에서는 노아의 방주의 구조나 재질등이 실제로 존재할 수 없는 설화속 이야기라는 데에 동의하고 있다.\n",
      "HyDE-Q Retrieved Document: 3\n",
      "\t7.452\t프리스틀리는 워링턴 거주 시절에는 다른 일 때문에 신학 연구에 몰두하지 못하였으나, 리즈에 오면서 그는 신학 연구에 많은 시간을 투자하였고, 결과적으로 그의 신앙은 아리우스주의에서 유니테리언으로 정립되었다. 리즈에서 프리스틀리는 삼위일체와 예수의 선재성(先在性, 성자인 예수는 천지창조전부터 성부와 같이 존재했다는 교리)등을 완전히 부정하였고, 기독교 교리와 성서를 새롭게 해석하기 시작했다. 그는 오래전부터 써오던 신학 교육에 대한 책인 《자연과 계시 종교의 원리》(Institutes of Natural and Revealed Religion)를 출판하기 시작하였는데, 1772년에 1권이 출판되었고 마지막 3권은 1774년에 출판되었다. 그는 책에서 자연 종교, 계시의 진실성을 뒷받침하는 논거, 계시로부터 얻을 수 있는 진실 등을 논했다. 이 책은 약 반세기간의 자유주의 신학자들의 주장을 요약하였고 오랜 기간에 걸쳐 유니테리언의 대표적인 해설서가 되었다.\n",
      "HyDE-Q Retrieved Document: 4\n",
      "\t7.194\t현대에는 그리스 신화의 기원에 대한 다양한 이론이 있다. 성서적 이론에 따르면, 신화적 전설은 실제 사실에서 가장되고 바뀐 부분은 있으나 모두 성서 속 이야기에서 비롯된 것이다. 역사적 이론에서는 신화에서 언급되는 모든 인물은 실존 인물이며, 그들과 관련된 전설은 단지 후대에 덧붙여진 것이라고 본다. 이 이론에서는 아이올로스의 이야기를 아이올로스가 티레니아 해에 위치한 어떤 섬의 지배자였다는 사실에서 생겨난 것으로 추정한다. 우의적 이론은 모든 고대 신화가 우의적이고 상징적인 의미를 가졌다고 추정한다. 이와는 다르게 물리적 이론에서는 공기와 불, 물의 원소가 본래 종교적 숭배의 대상이었으며, 주요한 신들이 이러한 자연의 힘을 신격화한 것이라는 생각을 따르고 있다. 막스 뮐러는 인도유럽 종교의 형태를 \"본래\" 명시하던 아리아인의 흔적을 찾아가는 방식을 통해서 이해하고자 했다. 1891년, 그는 다음과 같이 주장했다. \"19세기에 이르러 완성된 인류 고대사에 관한 최고로 중요한 발견은 ... 다음의 표본 등식이었다. 산스크리트어 디아우스 피트르 = 그리스어 제우스 = 라틴어 주피터 = 고대 노르드어 티르\" 서로 다른 지역의 신화에서 드러나는 특성과 기능은 밀접한 평행성을 보이고 있으며, 이것은 전승이 공유되었음을 암시한다. 하지만, 우라누스와 산스크리트 바루나 또는 그리스의 모이라와 노르드 신화의 노른의 경우처럼 언어의 유사성을 보이는 증거가 부족하여 확실한 입증은 어렵다.\n"
     ]
    }
   ],
   "source": [
    "# 결과 확인\n",
    "hits = hydeq.search(hyde_vector, k=100)\n",
    "hits = [{'index': idx, 'score': score} for score, idx in zip(hits[0][0], hits[1][0])]\n",
    "hits = sorted(hits, key=lambda x: x['score'], reverse=True)\n",
    "\n",
    "hits_lst = []\n",
    "for idx, hit in enumerate(hits):\n",
    "  if idx < 5:\n",
    "      print(f'HyDE-Q Retrieved Document: {idx}')\n",
    "      print(\"\\t{:.3f}\\t{}\".format(hit['score'], searcher.all_contexts[hit['index']]))\n",
    "  hits_lst.append(searcher.all_contexts[hit['index']])"
   ]
  },
  {
   "cell_type": "markdown",
   "id": "aef9a684-0040-4b9f-9730-289241d83592",
   "metadata": {},
   "source": [
    "#### **⑤ 쿼리를 이용해 Re-Rank**"
   ]
  },
  {
   "cell_type": "code",
   "execution_count": 11,
   "id": "1cf22cf7-cbaf-49b0-a9b1-ce4eed86c972",
   "metadata": {},
   "outputs": [
    {
     "name": "stdout",
     "output_type": "stream",
     "text": [
      "HyDEQ Re-ranked Retrieved Document: <built-in function id>\n",
      "\t0.716\t역사학과 과학이 발달하지 않았던 과거 전통 신학계에서는 근본주의적 시각을 받아들여 노아의 방주를 역사적 사실로 기술하려 했으며, 이러한 관점은 아직도 과학과 역사학에 어두운 보수적 근본주의계열의 개신교에서만 받아들여지고 있다. 하지만 역사학과 과학의 발달로 인해, 노아의 방주의 실존에 대한 의문이 제기가 되고, 세계적 홍수가 존재할 수 없음이 밝혀짐에 따라 현대 신학계에서는 비록 노아의 홍수가 과학적으로 실존하지는 않았지만 그 자체의 의미는 신학적으로 매우 중요하며, 이에 대한 해석은 다양하게 이루어지고 있으며, 대부분의 기독교(가톨릭, 개신교를 포함한 대부분)에서는 노아의 방주는 상징적 의미로 받아들여진다. 그러므로 과학과는 상관없이 신학적으로 노아의 방주 자체의 의미는 중요하게 해석된다고 한다\n",
      "HyDEQ Re-ranked Retrieved Document: <built-in function id>\n",
      "\t0.648\t물론 노아의 방주가 신학과 신앙에서 중요한 영향을 차지하는 것은 사실이나, 현재 노아의 방주가 역사적으로 실존한다는 주장은 그 증거가 존재하지 않기에 관련 학계로부터 전혀 인정받지 못하고 있으며 그 실존과 안정성에 대한 수많은 논란이 있다. 한국창조과학회 등에서는 제칠일안식교를 기반으로 한 홍수지질학적 주장들을을 내어 놓고 있지만, 사실과 다른 근거들을 바탕으로 주장하므로 신뢰하기 힘든 것들이 전부라 할 수 있다. 그러므로 현재 노아의 방주가 실존한다는 주장은 그 증거가 존재하지 않기에 관련 학계로부터 전혀 인정받지 못하고 있다. 모든 과학관련 학계에서는 노아의 방주의 구조나 재질등이 실제로 존재할 수 없는 설화속 이야기라는 데에 동의하고 있다.\n",
      "HyDEQ Re-ranked Retrieved Document: <built-in function id>\n",
      "\t0.638\t프리스틀리는 워링턴 거주 시절에는 다른 일 때문에 신학 연구에 몰두하지 못하였으나, 리즈에 오면서 그는 신학 연구에 많은 시간을 투자하였고, 결과적으로 그의 신앙은 아리우스주의에서 유니테리언으로 정립되었다. 리즈에서 프리스틀리는 삼위일체와 예수의 선재성(先在性, 성자인 예수는 천지창조전부터 성부와 같이 존재했다는 교리)등을 완전히 부정하였고, 기독교 교리와 성서를 새롭게 해석하기 시작했다. 그는 오래전부터 써오던 신학 교육에 대한 책인 《자연과 계시 종교의 원리》(Institutes of Natural and Revealed Religion)를 출판하기 시작하였는데, 1772년에 1권이 출판되었고 마지막 3권은 1774년에 출판되었다. 그는 책에서 자연 종교, 계시의 진실성을 뒷받침하는 논거, 계시로부터 얻을 수 있는 진실 등을 논했다. 이 책은 약 반세기간의 자유주의 신학자들의 주장을 요약하였고 오랜 기간에 걸쳐 유니테리언의 대표적인 해설서가 되었다.\n",
      "HyDEQ Re-ranked Retrieved Document: <built-in function id>\n",
      "\t0.635\t근대 미국과 유럽교회에서는 자유주의 신학이 영향을 주었다. 자유주의 신학은 기독교 신학의 근대적 해석으로 기독교와 시대의 연관성을 추구했다. 특히 미국교회의 자유주의 신학은 하나님 나라 즉, 하나님의 다스림의 윤리성을 강조한 사회복음주의가 등장하는 등 기독교인의 사회참여를 강조하는 성향을 보였고, 미국 성공회, 감리교, 교회들이 자유주의 신학을 따르고 있었을 정도로 큰 영향력을 갖고 있었다.(장로교는 뉴욕 유니온을 중심으로 한 축을 형성하였을 뿐 여전히 정통 칼뱅주의가 주류였다.) 이에 대한 반동으로 미국 보수 기독교계에서는 기독교 근본주의(The Fundamentalism)를 주장하였다. 근본주의 신학은 일부 감리교회와 극소수의 장로교회(예:칼 매킨타이어)와 절대다수의 침례교회에서 영향력을 보였는데, 1915년 출판된 《근본》이라는 소책자에서 그 이름이 유래한다. 예수의 동정녀 탄생, 예수의 신성, 예수의 대속적 죽음, 예수의 재림, 축자영감설에 근거한 성경무오설이 근본주의의 교리적인 특징이며, 예수를 믿지 않는 다른 종교인들은 심판으로 멸망한다는 구원관, 음주나 흡연에 반대하는 종교적인 금욕주의, 신학 교육과 자연과학에 대한 거부도 근본주의의 특징이다. 이들 근본주의자들은 조선에서의 개신교 선교를 했기 때문에, 한국 개신교회는 근본주의의 영향을 많이 받았다.\n",
      "HyDEQ Re-ranked Retrieved Document: <built-in function id>\n",
      "\t0.623\t요한계시록에 기록된 예언이 20세기 한국에 이루어졌으며, 그 실체의 인물이 존재하고 있다고 주장하는데, 이를 실상(實狀)이라고 한다. 신천지는 자신들이 지난 1960년대 과천을 중심으로 크게 부흥했던 유재열의 장막성전이 요한계시록의 사건이 이루어지는 현장이며, 그들의 배도와 멸망의 일과 그 이후의 구원의 일에 대해 증거하는 곳이라고 주장하고 있다. 이것을 배도, 멸망, 구원의 교리라고 한다. 이와 같은 배도와 멸망의 일이 일어나기 전까지는 요한계시록이 이루어지지 않으며, 구원의 역사가 시작되지 않는다고 주장하며, 현재 유일하게 신천지예수교 증거장막성전만이 성경의 노정대로 출현한 참 하나님의 나라요 교단이라고 주장한다. 신천지는 장막성전의 분열과 신천지의 등장이 요한계시록의 예언이 실현되는 과정으로 본다. 유재열을‘배도자’로 규정한다. 유재열에게 장막성전을 넘겨받은 기성 교단의 오평호는 ‘멸망자’다. 이만희는 요한계시록의 예언에 따라 배도자(유재열)와 멸망자(오평호) 다음에 오는 구원자인 것이다.\n"
     ]
    }
   ],
   "source": [
    "# line을 기준으로 re-rank (정답은 1번째 문서)\n",
    "rerank_hits = hydeq.rerank_by_line(hits_lst, query)\n",
    "rerank_hits_lst = []\n",
    "for idx, hit in enumerate(rerank_hits):\n",
    "  if idx < 5:\n",
    "      print(f'HyDEQ Re-ranked Retrieved Document: {id}')\n",
    "      print(\"\\t{:.3f}\\t{}\".format(hit['score'], hit['text']))\n",
    "  rerank_hits_lst.append(hit['text'])"
   ]
  },
  {
   "cell_type": "markdown",
   "id": "29810c13-3fe1-4b4d-8a22-abb6b3a67878",
   "metadata": {},
   "source": [
    "#### **⑥ 가장 유사도가 큰 문서를 참조해 정답 생성**"
   ]
  },
  {
   "cell_type": "code",
   "execution_count": 20,
   "id": "003f217f-6d1b-423e-a4b1-61f3fb1d4dbd",
   "metadata": {},
   "outputs": [
    {
     "data": {
      "text/plain": [
       "'다음 텍스트를 참고해서 답해주세요. ###질문:전통 신학계의 근본주의적 시작을 여전히 받아들여 노아의 방주를 역사적 사실로 인식하는 집단은? ###텍스트:역사학과 과학이 발달하지 않았던 과거 전통 신학계에서는 근본주의적 시각을 받아들여 노아의 방주를 역사적 사실로 기술하려 했으며, 이러한 관점은 아직도 과학과 역사학에 어두운 보수적 근본주의계열의 개신교에서만 받아들여지고 있다. 하지만 역사학과 과학의 발달로 인해, 노아의 방주의 실존에 대한 의문이 제기가 되고, 세계적 홍수가 존재할 수 없음이 밝혀짐에 따라 현대 신학계에서는 비록 노아의 홍수가 과학적으로 실존하지는 않았지만 그 자체의 의미는 신학적으로 매우 중요하며, 이에 대한 해석은 다양하게 이루어지고 있으며, 대부분의 기독교(가톨릭, 개신교를 포함한 대부분)에서는 노아의 방주는 상징적 의미로 받아들여진다. 그러므로 과학과는 상관없이 신학적으로 노아의 방주 자체의 의미는 중요하게 해석된다고 한다 ###답변:'"
      ]
     },
     "execution_count": 20,
     "metadata": {},
     "output_type": "execute_result"
    }
   ],
   "source": [
    "# 쿼리와 프롬프트\n",
    "query = '전통 신학계의 근본주의적 시작을 여전히 받아들여 노아의 방주를 역사적 사실로 인식하는 집단은?'\n",
    "\n",
    "reference = ''\n",
    "for idx in range(0, 1):\n",
    "    reference += f'{rerank_hits[idx][\"text\"]}'\n",
    "\n",
    "prompt = promptor.build_prompt(query, reference)\n",
    "prompt"
   ]
  },
  {
   "cell_type": "code",
   "execution_count": 22,
   "id": "f617161b-7de4-4b3e-9a5b-48c5f85b8e3a",
   "metadata": {},
   "outputs": [
    {
     "name": "stdout",
     "output_type": "stream",
     "text": [
      "전통 신학계에서는 노아의 방주를 역사적 사실로 인정하려 했고, 이에 따라 노아가 창조의 선(善)하고 의로운 요셉의 아들, 그리고 예수님의 어머니 마리아와 함께 에 등장하였다 라는 이야기가 완성되었다. 하지만 과학적으로는 증명되지 않은 내용이기 때문에, 현재는 사용되지 않는 것이 일반적이다. 그러나 전통적인 시각에서는 여전히 노아가 선지자였다는 것, 그리고 하느님의 뜻을 충족시키기 위해 인간적인 모습으로 지상에 나타났다는 것을 중요하게 생각한다. 노아의 방주는 현재는 상징적인 의미로 사용되는 것이 보통이다. 누구나 가지고 있는 과거의 신앙, 그리고 그 바탕이 된 문화적 유산은 지속되어야 한다는 것이다. \n"
     ]
    }
   ],
   "source": [
    "prediction = hydeq.generate_answer(query, reference, n=1)\n",
    "print(prediction[0])"
   ]
  },
  {
   "cell_type": "markdown",
   "id": "7008e66d-d5e3-4c50-a633-d01e39dd5ae5",
   "metadata": {},
   "source": [
    "#### **⑥ 검색과 생성의 정확도 확인**"
   ]
  },
  {
   "cell_type": "code",
   "execution_count": 23,
   "id": "efac14e5-393a-4c0c-baa1-b11b186d3a84",
   "metadata": {},
   "outputs": [
    {
     "data": {
      "text/plain": [
       "{'top_1': 'O',\n",
       " 'top_5': 'O',\n",
       " 'top_10': 'O',\n",
       " 'top_30': 'O',\n",
       " 'top_50': 'O',\n",
       " 'query': '전통 신학계의 근본주의적 시작을 여전히 받아들여 노아의 방주를 역사적 사실로 인식하는 집단은?',\n",
       " 're_answer': '역사학과 과학이 발달하지 않았던 과거 전통 신학계에서는 근본주의적 시각을 받아들여 노아의 방주를 역사적 사실로 기술하려 했으며, 이러한 관점은 아직도 과학과 역사학에 어두운 보수적 근본주의계열의 개신교에서만 받아들여지고 있다. 하지만 역사학과 과학의 발달로 인해, 노아의 방주의 실존에 대한 의문이 제기가 되고, 세계적 홍수가 존재할 수 없음이 밝혀짐에 따라 현대 신학계에서는 비록 노아의 홍수가 과학적으로 실존하지는 않았지만 그 자체의 의미는 신학적으로 매우 중요하며, 이에 대한 해석은 다양하게 이루어지고 있으며, 대부분의 기독교(가톨릭, 개신교를 포함한 대부분)에서는 노아의 방주는 상징적 의미로 받아들여진다. 그러므로 과학과는 상관없이 신학적으로 노아의 방주 자체의 의미는 중요하게 해석된다고 한다',\n",
       " 'ge_answer': '보수적 근본주의계열의 개신교',\n",
       " 'predict': ['전통 신학계에서는 노아의 방주를 역사적 사실로 인정하려 했고, 이에 따라 노아가 창조의 선(善)하고 의로운 요셉의 아들, 그리고 예수님의 어머니 마리아와 함께 에 등장하였다 라는 이야기가 완성되었다. 하지만 과학적으로는 증명되지 않은 내용이기 때문에, 현재는 사용되지 않는 것이 일반적이다. 그러나 전통적인 시각에서는 여전히 노아가 선지자였다는 것, 그리고 하느님의 뜻을 충족시키기 위해 인간적인 모습으로 지상에 나타났다는 것을 중요하게 생각한다. 노아의 방주는 현재는 상징적인 의미로 사용되는 것이 보통이다. 누구나 가지고 있는 과거의 신앙, 그리고 그 바탕이 된 문화적 유산은 지속되어야 한다는 것이다. ']}"
      ]
     },
     "execution_count": 23,
     "metadata": {},
     "output_type": "execute_result"
    }
   ],
   "source": [
    "# 각 샘플에 대해 정답지를 만들어 종합해 채점\n",
    "re_answer = '역사학과 과학이 발달하지 않았던 과거 전통 신학계에서는 근본주의적 시각을 받아들여 노아의 방주를 역사적 사실로 기술하려 했으며, 이러한 관점은 아직도 과학과 역사학에 어두운 보수적 근본주의계열의 개신교에서만 받아들여지고 있다. 하지만 역사학과 과학의 발달로 인해, 노아의 방주의 실존에 대한 의문이 제기가 되고, 세계적 홍수가 존재할 수 없음이 밝혀짐에 따라 현대 신학계에서는 비록 노아의 홍수가 과학적으로 실존하지는 않았지만 그 자체의 의미는 신학적으로 매우 중요하며, 이에 대한 해석은 다양하게 이루어지고 있으며, 대부분의 기독교(가톨릭, 개신교를 포함한 대부분)에서는 노아의 방주는 상징적 의미로 받아들여진다. 그러므로 과학과는 상관없이 신학적으로 노아의 방주 자체의 의미는 중요하게 해석된다고 한다'\n",
    "ge_answer = '보수적 근본주의계열의 개신교'\n",
    "\n",
    "def create_answer_sheet(query, re_answer, ge_answer, prediction, hits_lst):\n",
    "    answer_sheet = {\n",
    "        'top_1': 'O' if re_answer in hits_lst[:1] else 'X',\n",
    "        'top_5': 'O' if re_answer in hits_lst[:5] else 'X',\n",
    "        'top_10': 'O' if re_answer in hits_lst[:10] else 'X',\n",
    "        'top_30': 'O' if re_answer in hits_lst[:30] else 'X',\n",
    "        'top_50': 'O' if re_answer in hits_lst[:50] else 'X',\n",
    "        'query': query,\n",
    "        're_answer': re_answer,\n",
    "        'ge_answer': ge_answer,\n",
    "        'predict': prediction\n",
    "    }\n",
    "    return answer_sheet\n",
    "\n",
    "create_answer_sheet(query, re_answer, ge_answer, prediction, rerank_hits_lst)"
   ]
  }
 ],
 "metadata": {
  "kernelspec": {
   "display_name": "Python 3 (ipykernel)",
   "language": "python",
   "name": "python3"
  },
  "language_info": {
   "codemirror_mode": {
    "name": "ipython",
    "version": 3
   },
   "file_extension": ".py",
   "mimetype": "text/x-python",
   "name": "python",
   "nbconvert_exporter": "python",
   "pygments_lexer": "ipython3",
   "version": "3.8.0"
  }
 },
 "nbformat": 4,
 "nbformat_minor": 5
}
